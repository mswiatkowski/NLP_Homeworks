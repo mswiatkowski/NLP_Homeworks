{
 "cells": [
  {
   "cell_type": "markdown",
   "metadata": {},
   "source": [
    "## Marcin Świątkowski\n",
    "# NLP Lab 'Named entity recognition'"
   ]
  },
  {
   "cell_type": "markdown",
   "metadata": {},
   "source": [
    "### Zadanie 1, 2, i 3 zrobione"
   ]
  },
  {
   "cell_type": "markdown",
   "metadata": {},
   "source": [
    "### Zadanie 4: posortować ustawy według rozmiaru i wziąć top 50"
   ]
  },
  {
   "cell_type": "code",
   "execution_count": 175,
   "metadata": {},
   "outputs": [],
   "source": [
    "# !pip install -i https://pypi.clarin-pl.eu lpmn_client\n",
    "# !pip install spacy"
   ]
  },
  {
   "cell_type": "code",
   "execution_count": 3,
   "metadata": {},
   "outputs": [
    {
     "name": "stderr",
     "output_type": "stream",
     "text": [
      "c:\\Users\\marti\\Desktop\\Studia WIET\\neural_networks\\NN_venv\\lib\\site-packages\\tqdm\\auto.py:22: TqdmWarning: IProgress not found. Please update jupyter and ipywidgets. See https://ipywidgets.readthedocs.io/en/stable/user_install.html\n",
      "  from .autonotebook import tqdm as notebook_tqdm\n"
     ]
    }
   ],
   "source": [
    "import glob\n",
    "import os\n",
    "import regex as re\n",
    "from lpmn_client import download_file, upload_file\n",
    "from lpmn_client import Task\n",
    "from bs4 import BeautifulSoup\n",
    "from spacy.tokenizer import Tokenizer\n",
    "from spacy.lang.pl import Polish\n",
    "from collections import defaultdict\n",
    "import matplotlib.pyplot as plt"
   ]
  },
  {
   "cell_type": "code",
   "execution_count": 10,
   "metadata": {},
   "outputs": [],
   "source": [
    "dir_name = 'C:/Users/marti/Desktop/Studia WIET/Semestr zimowy 2022-23/NLP/LabyNLP/ustawy/'"
   ]
  },
  {
   "cell_type": "code",
   "execution_count": 11,
   "metadata": {},
   "outputs": [],
   "source": [
    "list_of_files = filter( os.path.isfile,\n",
    "                        glob.glob(dir_name + '*') )"
   ]
  },
  {
   "cell_type": "code",
   "execution_count": 12,
   "metadata": {},
   "outputs": [],
   "source": [
    "list_of_files = sorted(list_of_files, key= lambda x: os.stat(x).st_size)"
   ]
  },
  {
   "cell_type": "code",
   "execution_count": 40,
   "metadata": {},
   "outputs": [
    {
     "name": "stdout",
     "output_type": "stream",
     "text": [
      "['2000_696.txt', '1996_465.txt', '2001_627.txt', '1997_555.txt', '2002_1689.txt', '2000_1186.txt', '1998_1118.txt', '1997_117.txt', '2001_1070.txt', '2001_1368.txt', '1997_714.txt', '2001_499.txt', '2003_1750.txt', '2001_1545.txt', '2000_991.txt', '2001_1229.txt', '1994_195.txt', '2000_1268.txt', '2003_2277.txt', '1997_926.txt', '2000_1104.txt', '1997_553.txt', '2004_2065.txt', '2004_1693.txt', '2004_880.txt', '2004_177.txt', '2003_423.txt', '1997_349.txt', '2000_1315.txt', '1999_930.txt', '1994_591.txt', '2004_2533.txt', '1996_110.txt', '1997_557.txt', '1999_95.txt', '2001_1381.txt', '2000_136.txt', '1996_460.txt', '2001_1438.txt', '1996_561.txt', '2001_1188.txt', '2001_628.txt', '2001_475.txt', '2003_2256.txt', '1998_602.txt', '2001_906.txt', '2001_92.txt', '1996_496.txt', '1997_153.txt', '2001_1444.txt']\n"
     ]
    }
   ],
   "source": [
    "# sortujemy ustawy i bierzemy top 50:\n",
    "\n",
    "sorted_bills = []\n",
    "for elem in list_of_files:\n",
    "    file_size = os.stat(elem).st_size\n",
    "    # print(file_size, ' ---> ', elem)\n",
    "    pattern = re.compile(r'(?<=\\\\)\\w+')\n",
    "    match = re.search(pattern, elem)\n",
    "    output = match.group() + '.txt'\n",
    "    # print(file_size, output)\n",
    "    sorted_bills.append(output)\n",
    "    # print(output)\n",
    "    # sorted_bills.append(elem)\n",
    "\n",
    "sorted_bills.reverse()\n",
    "print(sorted_bills[:50])\n",
    "top_sorted_bills = sorted_bills.copy()[:50]"
   ]
  },
  {
   "cell_type": "code",
   "execution_count": 54,
   "metadata": {},
   "outputs": [],
   "source": [
    "# Ładujemy wybrane ustawy:\n",
    "\n",
    "top_bills_content = dict()\n",
    "\n",
    "for bill_name in top_sorted_bills:\n",
    "    # print(bill_name)\n",
    "    with open(f'C:/Users/marti/Desktop/Studia WIET/Semestr zimowy 2022-23/NLP/LabyNLP/ustawy/{bill_name}', 'r', encoding=\"utf-8\") as ustawa:\n",
    "        content = ustawa.read()\n",
    "        # print(content)\n",
    "        top_bills_content[bill_name] = content"
   ]
  },
  {
   "cell_type": "code",
   "execution_count": 58,
   "metadata": {},
   "outputs": [],
   "source": [
    "# zapisujemy top 50 w oddzielnym folderze:\n",
    "\n",
    "import shutil\n",
    "\n",
    "for k in top_bills_content.keys():\n",
    "    shutil.copyfile(f'C:/Users/marti/Desktop/Studia WIET/Semestr zimowy 2022-23/NLP/LabyNLP/ustawy/{k}', f'C:/Users/marti/Desktop/Studia WIET/Semestr zimowy 2022-23/NLP/LabyNLP/top_ustawy/{k}')"
   ]
  },
  {
   "cell_type": "code",
   "execution_count": 65,
   "metadata": {},
   "outputs": [
    {
     "data": {
      "text/plain": [
       "'out/6d66fa11-37e8-4565-8ff0-5e4fe5865840.zip'"
      ]
     },
     "execution_count": 65,
     "metadata": {},
     "output_type": "execute_result"
    }
   ],
   "source": [
    "# lematyzujemy:\n",
    "\n",
    "task = Task(lpmn='any2txt|morphoditasgjp')\n",
    "task.email = \"martinswiat@mail.com\"\n",
    "\n",
    "file_id = upload_file(\"C:/Users/marti/Desktop/Studia WIET/Semestr zimowy 2022-23/NLP/LabyNLP/top_ustawy.zip\")\n",
    "output_file_id = task.run(file_id)\n",
    "download_file(output_file_id, \"out\")"
   ]
  },
  {
   "cell_type": "markdown",
   "metadata": {},
   "source": [
    "### Zadanie 5: Wyszukujemy następujące po sobie słowa, które zaczynają się na wielką literę"
   ]
  },
  {
   "cell_type": "code",
   "execution_count": 72,
   "metadata": {},
   "outputs": [],
   "source": [
    "# Ładujemy zlematyzowany tekst:\n",
    "\n",
    "path = 'C:/Users/marti/Desktop/Studia WIET/Semestr zimowy 2022-23/NLP/LabyNLP/lemmatized_top_bills'\n",
    "\n",
    "os.chdir(path)\n",
    "\n",
    "lemma_top_bills = dict() # słownik przechowujący zlematyzowane ustawy\n",
    "\n",
    "for file in os.listdir():\n",
    "    if file.endswith(\".txt\"):\n",
    "        file_path = f\"{path}/{file}\"\n",
    "        \n",
    "        with open(file_path, 'r', encoding='utf-8') as f:\n",
    "            output = f.read()\n",
    "            lemma_top_bills[file] = output"
   ]
  },
  {
   "cell_type": "code",
   "execution_count": 170,
   "metadata": {},
   "outputs": [],
   "source": [
    "# Wyciągamy zdania z ustaw:\n",
    "\n",
    "lemma_bills_parsed = dict()\n",
    "\n",
    "for billname, bill in lemma_top_bills.items():\n",
    "    phrases = bill.split('<sentence')\n",
    "    lemma_bills_parsed[billname] = []\n",
    "\n",
    "    for phrase in phrases:\n",
    "        phrase = phrase.split('\\n')\n",
    "        lemma_phrase = []\n",
    "        capital = False\n",
    "        \n",
    "        for line in phrase:\n",
    "            if '<orth>' in line:\n",
    "                word = re.findall(r'<orth>(.*?)</orth>', line)\n",
    "                # print(word[0])\n",
    "                try:\n",
    "                    if word[0][0].isupper() == True:\n",
    "                        capital = True\n",
    "                    else:\n",
    "                        capital = False\n",
    "                except IndexError:\n",
    "                    continue\n",
    "            if '<base>' in line:\n",
    "                word = re.findall(r'<base>(.*?)</base>', line)\n",
    "                word = word[0]\n",
    "                # print(word)\n",
    "                if capital == True:\n",
    "                    word = word.capitalize()\n",
    "                    # print(word)\n",
    "                    # print(word)\n",
    "                lemma_phrase.append(word)\n",
    "        try:\n",
    "            lemma_phrase[0] = lemma_phrase[0].lower() # usuwamy wielką literę z pierwszego słowa\n",
    "        except IndexError:\n",
    "            pass\n",
    "        lemma_phrase = ' '.join(lemma_phrase)\n",
    "        lemma_bills_parsed[billname].append(lemma_phrase)"
   ]
  },
  {
   "cell_type": "code",
   "execution_count": null,
   "metadata": {},
   "outputs": [],
   "source": [
    "# Tokenizujemy:\n",
    "\n",
    "token_bills = dict()\n",
    "\n",
    "nlp = Polish()\n",
    "\n",
    "for k in lemma_bills_parsed.keys():\n",
    "    token_bills[k] = []\n",
    "    for phrase in lemma_bills_parsed[k]:\n",
    "        tokenized_bill = []\n",
    "        # print(k)\n",
    "        doc = nlp(phrase)\n",
    "        for token in doc:\n",
    "            tok = token.text\n",
    "            # print(tok)\n",
    "            \n",
    "            tokenized_bill.append(tok)\n",
    "            \n",
    "        token_bills[k].append(tokenized_bill)"
   ]
  },
  {
   "cell_type": "code",
   "execution_count": 211,
   "metadata": {},
   "outputs": [],
   "source": [
    "upper_bills = dict()\n",
    "\n",
    "for k in token_bills.keys():\n",
    "    upper_bills[k] = []\n",
    "    for phrase in token_bills[k]:\n",
    "        upper_phrase = []\n",
    "        upper_expression = []\n",
    "        \n",
    "        # print(phrase)\n",
    "        for word in phrase:\n",
    "            # print(phrase.index(word))\n",
    "            if phrase.index(word) != 0 and word[0].isupper():\n",
    "                upper_expression.append(word)\n",
    "            else:\n",
    "                exp = ' '.join(upper_expression)\n",
    "                if len(upper_expression) > 0:\n",
    "                    upper_phrase.append(exp)\n",
    "                upper_expression = []\n",
    "\n",
    "        # print('Upper phrase - ', upper_phrase)\n",
    "        if len(upper_phrase) > 1:\n",
    "            upper_bills[k].append(upper_phrase)\n",
    "                "
   ]
  },
  {
   "cell_type": "code",
   "execution_count": 212,
   "metadata": {},
   "outputs": [
    {
     "data": {
      "text/plain": [
       "[['Tytuł I Przepis', 'Artykuł'],\n",
       " ['Urząd Patentowy Rzeczpospolita Polski', 'Urząd Patentowy'],\n",
       " ['Rzeczpospolita Polski',\n",
       "  'Rzeczpospolita Polski',\n",
       "  'Konwencja',\n",
       "  'Akt',\n",
       "  'Konwencja'],\n",
       " ['Dziennik', 'Ustawa'],\n",
       " ['Urząd Patentowy', 'Prezes Urząd Patentowy'],\n",
       " ['Ii Wynalazek', 'Dział I Przepis', 'Artykuł'],\n",
       " ['Rzeczpospolita Polski', 'Urząd Patentowy'],\n",
       " ['Polska', 'Urząd Patentowy'],\n",
       " ['Polska',\n",
       "  'Prezes Urząd Patentowy',\n",
       "  'Dziennik Urzędowy Rzeczpospolita Polski',\n",
       "  'Monitor Polski'],\n",
       " ['Konwencja', 'Urząd Patentowy'],\n",
       " ['Urząd Patentowy', 'Urząd Patentowy'],\n",
       " ['Ii Wynalazek', 'Rozdział', 'Wynalazek Artykuł'],\n",
       " ['Zgłoszenie', 'Artykuł'],\n",
       " ['Prezes Urząd Patentowy',\n",
       "  'Dziennik Urzędowy Rzeczpospolita Polski',\n",
       "  'Monitor Polski'],\n",
       " ['Rzeczpospolita Polski', 'Urząd Patentowy'],\n",
       " ['Rozpatrywać', 'Artykuł'],\n",
       " ['Patentowy', 'Urząd Patentowy'],\n",
       " ['Wynalazek', 'Artykuł'],\n",
       " ['Państwo', 'Szef Urząd Ochrona Państwo'],\n",
       " ['Urząd Patentowy', 'Skarb Państwo', 'Szef Urząd Ochrona Państwo'],\n",
       " ['Szef Urząd Ochrona Państwo', 'Państwo'],\n",
       " ['Minister', 'Państwo'],\n",
       " ['Patentowy', 'Szef Urząd Ochrona Państwo', 'Państwo'],\n",
       " ['Rzeczpospolita Polski', 'Państwo'],\n",
       " ['Umowa', 'Artykuł'],\n",
       " ['Licencja', 'Artykuł'],\n",
       " ['Patentowy', 'Państwo'],\n",
       " ['Patentowy', 'Wiadomości Urząd Patentowy'],\n",
       " ['Unieważnienie', 'Artykuł'],\n",
       " ['Generalny Rzeczpospolita Polski', 'Prezes Urząd Patentowy'],\n",
       " ['Prezes Rada Minister', 'Urząd Patentowy', 'Urząd Patentowy'],\n",
       " ['Iii Wzory', 'Artykuł'],\n",
       " ['Minister', 'Państwo'],\n",
       " ['Rada Minister', 'Urząd Patentowy', 'Urząd Patentowy'],\n",
       " ['Iv Wzory', 'Artykuł'],\n",
       " ['Iii Znak', 'Działo I Znak', 'Rozdział', 'Znak', 'Artykuł'],\n",
       " ['Rzeczpospolita Polski', 'Urząd Patentowy'],\n",
       " ['Polska', 'Urząd Patentowy'],\n",
       " ['Polska',\n",
       "  'Prezes Urząd Patentowy',\n",
       "  'Dziennik Urzędowy Rzeczpospolita Polski',\n",
       "  'Monitor Polski'],\n",
       " ['Konwencja', 'Urząd Patentowy'],\n",
       " ['Urząd Patentowy', 'Urząd Patentowy'],\n",
       " ['Urząd Patentowy', 'Rzeczpospolita Polski', 'Państwo'],\n",
       " ['Wspólny', 'Artykuł'],\n",
       " ['Zgłoszenie', 'Artykuł'],\n",
       " ['Rozpatrywać', 'Artykuł'],\n",
       " ['Rada Minister', 'Urząd Patentowy'],\n",
       " ['Prawo', 'Artykuł'],\n",
       " ['Unieważnienie', 'Artykuł'],\n",
       " ['Generalny Rzeczpospolita Polski', 'Prezes Urząd Patentowy'],\n",
       " ['Generalny Rzeczpospolita Polski', 'Prezes Urząd Patentowy'],\n",
       " ['Ii Oznaczenie', 'Rozdział', 'Przepis', 'Artykuł'],\n",
       " ['Zgłoszenie', 'Artykuł'],\n",
       " ['Prawo', 'Artykuł'],\n",
       " ['Zarejestrować', 'G'],\n",
       " ['Unieważnienie', 'Artykuł'],\n",
       " ['Generalny Rzeczpospolita Polski', 'Prezes Urząd Patentowy'],\n",
       " ['Iv Topografia', 'Działo I Przepis', 'Artykuł'],\n",
       " ['Ii Zgłoszenie', 'Artykuł'],\n",
       " ['Iii Prawo', 'Artykuł'],\n",
       " ['Rzeczpospolita Polski', 'Rzeczpospolita Polska'],\n",
       " ['V Opłata', 'Działo I Opłata Art'],\n",
       " ['Patentowy', 'Wiadomości Urząd Patentowy'],\n",
       " ['Ii Rejestr', 'Artykuł'],\n",
       " ['Urząd Patentowy', 'Rzeczpospolita Polski'],\n",
       " ['Iii Ogłoszenie', 'Artykuł'],\n",
       " ['Wiadomości Urząd Patentowy', 'Urząd Patentowy'],\n",
       " ['Urząd Patentowy', 'Rzeczpospolita Polski'],\n",
       " ['Urząd Patentowy', 'Urząd Patentowy'],\n",
       " ['Izba Odwoławczy Urząd Patentowy', 'Izba Odwoławczy'],\n",
       " ['Izba Odwoławczy', 'Urząd Patentowy'],\n",
       " ['Urząd Patentowy', 'Wiadomości Urząd Patentowy'],\n",
       " ['Urząd Patentowy', 'Naczelny Sąd Administracyjny'],\n",
       " ['Naczelny Sąd Administracyjny', 'Prezes Urząd Patentowy', 'Izba Odwoławczy'],\n",
       " ['Izba Odwoławczy', 'Urząd Patentowy', 'Naczelny Sąd Administracyjny'],\n",
       " ['Prezes Urząd Patentowy', 'Naczelny Sąd Administracyjny'],\n",
       " ['Urząd Patentowy', 'Kodeks'],\n",
       " ['Urząd Patentowy',\n",
       "  'Prezes Urząd Patentowy',\n",
       "  'Prokurator Generalny Rzeczpospolita Polski',\n",
       "  'Rzecznik Prawo Obywatelski',\n",
       "  'Naczelny Sąd Administracyjny'],\n",
       " ['Vii Postępowanie', 'Artykuł'],\n",
       " ['Urząd Patentowy', 'Kodeks'],\n",
       " ['Minister', 'Urząd Patentowy'],\n",
       " ['Urząd Patentowy', 'Naczelny Sąd Administracyjny'],\n",
       " ['Viii Organa Dział I Urząd Patentowy Rozdział',\n",
       "  'Zadanie',\n",
       "  'Urząd Patentowy Art'],\n",
       " ['Patentowy', 'Rada Minister'],\n",
       " ['Urząd Patentowy', 'Rada Minister'],\n",
       " ['Rada Minister', 'Urząd Patentowy', 'Urząd'],\n",
       " ['Urząd Patentowy',\n",
       "  'Wiadomość Urząd Patentowy',\n",
       "  'Rzeczpospolita Polski',\n",
       "  'Konwencja'],\n",
       " ['Minister', 'Urząd Patentowy', 'Urząd'],\n",
       " ['Urząd Patentowy', 'Prezes Urząd Patentowy', 'Urząd'],\n",
       " ['Urząd Patentowy', 'Prezes Rada Minister'],\n",
       " ['Prezes Urząd Patentowy', 'Prezes Rada Minister', 'Prezes Urząd Patentowy'],\n",
       " ['Urząd Patentowy', 'Naczelny Sąd Administracyjny'],\n",
       " ['Urząd Patentowy', 'Kolegium'],\n",
       " ['Kolegium', 'Prezes Urząd Patentowy', 'Rzecznik Interes Zawodowy'],\n",
       " ['Rzecznik Interes Zawodowy', 'Kolegium'],\n",
       " ['Prezes Urząd Patentowy', 'Zastępca Prezes'],\n",
       " ['Aplikacja', 'Uprawnienie', 'Artykuł'],\n",
       " ['Prezes Urząd Patentowy', 'Ślubować'],\n",
       " ['Prezes Urząd Patentowy', 'Kolegium'],\n",
       " ['Prezes Urząd Patentowy', 'Zastępca Prezes'],\n",
       " ['Konstytucja Rzeczpospolita Polski', 'Prezes Urząd Patentowy'],\n",
       " ['Prezes Rada Minister', 'Prezes Urząd Patentowy'],\n",
       " ['Odpowiedzialność', 'Zawiesić', 'Artykuł'],\n",
       " ['Prezes Urząd Patentowy',\n",
       "  'Komisja Dyscyplinarny Ekspert',\n",
       "  'Wysoki Komisja Dyscyplinarny Ekspert'],\n",
       " ['Urząd Patentowy', 'Urząd Patentowy'],\n",
       " ['Urząd Patentowy', 'Urząd Patentowy', 'Kodeks'],\n",
       " ['Urząd Patentowy', 'Izba Odwoławczy'],\n",
       " ['Odwoławczy', 'Przewodniczący Izba Odwoławczy', 'Prezes Urząd Patentowy'],\n",
       " ['Ii Kolegium', 'Artykuł'],\n",
       " ['Urząd Patentowy', 'Wydział Sprawa Sporny'],\n",
       " ['Sprawa Sporny',\n",
       "  'Przewodniczący Wydział Sprawa Sporny',\n",
       "  'Prezes Urząd Patentowy'],\n",
       " ['Prezes Urząd Patentowy', 'Prezes Urząd Patentowy'],\n",
       " ['Ix Dochodzić', 'Dział I Przepis', 'Artykuł'],\n",
       " ['Ii Roszczenie', 'Artykuł'],\n",
       " ['Iii Roszczenie', 'Artykuł'],\n",
       " ['X Przepis', 'Artykuł'],\n",
       " ['Skarb Państwo', 'Skarb Państwo'],\n",
       " ['Xi Zmiana', 'Przepis', 'Dział I Zmiana', 'Artykuł'],\n",
       " ['Kodeks', 'Prawo'],\n",
       " ['Sąd Wysoki', 'Dziennik', 'Ustawa'],\n",
       " ['Numer', 'Numer', 'Numer'],\n",
       " ['Naczelny Sąd Administracyjny', 'Dziennik', 'Ustawa', 'Numer', 'Numer'],\n",
       " ['Numer', 'Numer', 'Numer'],\n",
       " ['Sprawiedliwość',\n",
       "  'Prokurator Generalny',\n",
       "  'Pierwszy Prezes Sąd Wysoki',\n",
       "  'Prezes Naczelny Sąd Administracyjny',\n",
       "  'Rzecznik Prawo Obywatelski',\n",
       "  'Prezes Urząd Patentowy Rzeczpospolita Polski',\n",
       "  'Sąd',\n",
       "  'Sąd Wysoki',\n",
       "  'Rzeczpospolita Polski'],\n",
       " ['Ii Przepis', 'Artykuł'],\n",
       " ['Urząd Patentowy', 'Komisja Odwoławczy', 'Urząd Patentowy'],\n",
       " ['Urząd Patentowy', 'Wydział Sprawa Sporny'],\n",
       " ['Komisja Odwoławczy', 'Naczelny Sąd Administracyjny'],\n",
       " ['Komisja Odwoławczy', 'Urząd Patentowy', 'Izba Odwoławczy'],\n",
       " ['Urząd Patentowy', 'Komisja Odwoławczy', 'Urząd Patentowy'],\n",
       " ['Wydział Sprawa Sporny', 'Naczelny Sąd Administracyjny', 'Urząd Patentowy'],\n",
       " ['Urząd Patentowy', 'Prezes Urząd Patentowy'],\n",
       " ['Skarb Państwo', 'Skarb Państwo'],\n",
       " ['Dziennik', 'Ustawa'],\n",
       " ['Numer', 'Dziennik', 'Ustawa', 'Numer'],\n",
       " ['Dziennik', 'Ustawa', 'Numer'],\n",
       " ['Numer', 'Urząd Patentowy Rzeczpospolita Polski', 'Dziennik', 'Ustawa'],\n",
       " ['Urząd Patentowy Rzeczpospolita Polski', 'Dziennik', 'Ustawa']]"
      ]
     },
     "execution_count": 212,
     "metadata": {},
     "output_type": "execute_result"
    }
   ],
   "source": [
    "# Wynik tokenizacji i łączenia słów na wielką literę dla jednej z ustaw:\n",
    "\n",
    "upper_bills['top_ustawy%1994_195.txt']"
   ]
  },
  {
   "cell_type": "markdown",
   "metadata": {},
   "source": [
    "### Zadanie 6: Obliczamy częstość wystąpień wyrażeń zaczynających się z wielkiej litery"
   ]
  },
  {
   "cell_type": "code",
   "execution_count": 215,
   "metadata": {},
   "outputs": [],
   "source": [
    "expression_count = dict()\n",
    "\n",
    "for k in upper_bills.keys():\n",
    "    for phrase in upper_bills[k]:\n",
    "        for expression in phrase:\n",
    "            if expression in expression_count.keys():\n",
    "                expression_count[expression] += 1\n",
    "            else:\n",
    "                expression_count[expression] = 1"
   ]
  },
  {
   "cell_type": "code",
   "execution_count": 229,
   "metadata": {},
   "outputs": [],
   "source": [
    "sorted_bills_dict = dict(sorted(expression_count.items(), key=lambda item: item[1], reverse=True))\n",
    "# sorted_bills_dict\n",
    "sorted_bills_top = dict()\n",
    "for k, v in sorted_bills_dict.items():\n",
    "    if len(sorted_bills_top) != 50 and len(k) > 1: # tu bierzemy 50 pierwszych\n",
    "        sorted_bills_top[k] = v"
   ]
  },
  {
   "cell_type": "code",
   "execution_count": 230,
   "metadata": {},
   "outputs": [
    {
     "data": {
      "text/plain": [
       "{'Numer': 3847,\n",
       " 'Dziennik': 1430,\n",
       " 'Artykuł': 1315,\n",
       " 'Ustawa': 1085,\n",
       " 'Rzeczpospolita Polski': 505,\n",
       " 'Policja': 389,\n",
       " 'Straż Graniczny': 273,\n",
       " 'Prawo': 272,\n",
       " 'Kodeks': 271,\n",
       " 'Unia Europejski': 255,\n",
       " 'Kasa Chory': 253,\n",
       " 'Skarb Państwo': 223,\n",
       " 'Państwowy Straż Pożarny': 189,\n",
       " 'Rada Minister': 184,\n",
       " 'Rada': 177,\n",
       " 'Zmiana': 176,\n",
       " 'Azot': 166,\n",
       " 'Pozostały': 161,\n",
       " 'Minister': 146,\n",
       " 'Rozdział': 144,\n",
       " 'Tkanina': 141,\n",
       " 'Fundusz': 136,\n",
       " 'Praca': 135,\n",
       " 'Minister Obrona Narodowy': 135,\n",
       " 'Zakład': 130,\n",
       " 'Prezes Rada Minister': 128,\n",
       " 'Urząd Ochrona Państwo': 128,\n",
       " 'Efta': 114,\n",
       " 'Nawóz': 111,\n",
       " 'Prezes Urząd': 110,\n",
       " 'Ii': 109,\n",
       " 'Administracja': 107,\n",
       " 'Europejski Obszar Gospodarczy': 106,\n",
       " 'Europejski Porozumienie': 105,\n",
       " 'Wolny Handel': 105,\n",
       " 'Przepis': 100,\n",
       " 'Minister Sprawiedliwość': 99,\n",
       " 'Inspektor Nadzór Wewnętrzny': 95,\n",
       " 'Maszyna': 94,\n",
       " 'Minister Sprawa Wewnętrzny': 93,\n",
       " 'Damski': 93,\n",
       " 'Minister Finanse': 89,\n",
       " 'Opieka Społeczny': 89,\n",
       " 'Biuro': 89,\n",
       " 'Szef Urząd Ochrona Państwo': 81,\n",
       " 'Okręgowy Komisja Wyborczy': 81,\n",
       " 'Sejm': 76,\n",
       " 'Komisja': 74,\n",
       " 'Państwowy Komisja Wyborczy': 73,\n",
       " 'Przędza': 73}"
      ]
     },
     "execution_count": 230,
     "metadata": {},
     "output_type": "execute_result"
    }
   ],
   "source": [
    "# Wyświetlamy top 50 wyników\n",
    "\n",
    "sorted_bills_top"
   ]
  },
  {
   "cell_type": "markdown",
   "metadata": {},
   "source": [
    "### Zadanie 7: Zastosować algorytm NER do identyfikacji nazw w niezlematyzowanym korpusie"
   ]
  },
  {
   "cell_type": "code",
   "execution_count": 232,
   "metadata": {},
   "outputs": [],
   "source": [
    "# Ładujemy niezlematyzowany korpus:\n",
    "\n",
    "path = 'C:/Users/marti/Desktop/Studia WIET/Semestr zimowy 2022-23/NLP/LabyNLP/top_ustawy/'\n",
    "os.chdir(path)\n",
    "\n",
    "top_corpus = dict()\n",
    "\n",
    "for file in os.listdir():\n",
    "    if file.endswith(\".txt\"):\n",
    "        file_path = f\"{path}/{file}\"\n",
    "        \n",
    "        with open(file_path, 'r', encoding='utf-8') as f:\n",
    "            output = f.read()\n",
    "            top_corpus[file] = output"
   ]
  },
  {
   "cell_type": "code",
   "execution_count": 237,
   "metadata": {},
   "outputs": [
    {
     "data": {
      "text/plain": [
       "'./out_ner/24db6b77-8765-4854-846f-c5b054305cee.zip'"
      ]
     },
     "execution_count": 237,
     "metadata": {},
     "output_type": "execute_result"
    }
   ],
   "source": [
    "task = Task(lpmn='any2txt|morphoditasgjp|liner2({\"model\":\"n82\"})')\n",
    "task.email = \"martinswiat@mail.com\"\n",
    "\n",
    "file_id = upload_file(\"C:/Users/marti/Desktop/Studia WIET/Semestr zimowy 2022-23/NLP/LabyNLP/top_ustawy.zip\")\n",
    "output_file_id = task.run(file_id)\n",
    "download_file(output_file_id, \"./out_ner\")"
   ]
  },
  {
   "cell_type": "code",
   "execution_count": 4,
   "metadata": {},
   "outputs": [],
   "source": [
    "# Ładujemy korpus po przepuszczeniu przez NER:\n",
    "\n",
    "path = 'C:/Users/marti/Desktop/Studia WIET/Semestr zimowy 2022-23/NLP/LabyNLP/top_ustawy_NER/'\n",
    "os.chdir(path)\n",
    "\n",
    "top_corpus_NER = dict()\n",
    "\n",
    "for file in os.listdir():\n",
    "    file_path = f\"{path}/{file}\"\n",
    "        \n",
    "    with open(file_path, 'r', encoding='utf-8') as f:\n",
    "        output = f.read()\n",
    "        top_corpus_NER[file] = output"
   ]
  },
  {
   "cell_type": "code",
   "execution_count": 5,
   "metadata": {},
   "outputs": [],
   "source": [
    "# Parsujemy interesujące nas wyrażenia:\n",
    "\n",
    "NER_bills = dict()\n",
    "\n",
    "for k in top_corpus_NER.keys():\n",
    "    top_NER_lines = top_corpus_NER['top_ustawy%1994_195.txt'].split('<sentence')\n",
    "    bill_expressions = []\n",
    "    for sentence in top_NER_lines:\n",
    "        # print(sentence)\n",
    "        if '<ann chan' in sentence:\n",
    "            # name_id = re.findall(r'\\d</ann>', sentence)[0][0]\n",
    "            # if int(name_id) != 0:\n",
    "            token = re.findall(r'<tok>((.|\\n)*?)</tok>', sentence)\n",
    "            # print(token[0])\n",
    "            expression = []\n",
    "            for t in token:\n",
    "                # print(t)\n",
    "                name_id = re.findall(r'\\d</ann>', t[0])[0][0]\n",
    "                if int(name_id) != 0:\n",
    "                    # print(t)\n",
    "                    base = re.findall(r'<base>(.*?)</base>', t[0])\n",
    "                    name_type = re.findall(r'ann chan=\"(.*?)\"', t[0])\n",
    "                    # print(base)\n",
    "                    expression.append({base[0]: name_type})\n",
    "                else:\n",
    "                    if len(expression) > 0:\n",
    "                        bill_expressions.append(expression)\n",
    "                    # if len(expression) > 0:\n",
    "                        # print('exp ----> ', expression)\n",
    "                    expression = []\n",
    "    NER_bills[k] = bill_expressions        \n",
    "            \n",
    "        \n",
    "    "
   ]
  },
  {
   "cell_type": "code",
   "execution_count": 5,
   "metadata": {},
   "outputs": [
    {
     "name": "stdout",
     "output_type": "stream",
     "text": [
      "dict_keys(['top_ustawy%1994_195.txt', 'top_ustawy%1994_591.txt', 'top_ustawy%1996_110.txt', 'top_ustawy%1996_460.txt', 'top_ustawy%1996_465.txt', 'top_ustawy%1996_496.txt', 'top_ustawy%1996_561.txt', 'top_ustawy%1997_117.txt', 'top_ustawy%1997_153.txt', 'top_ustawy%1997_349.txt', 'top_ustawy%1997_553.txt', 'top_ustawy%1997_555.txt', 'top_ustawy%1997_557.txt', 'top_ustawy%1997_714.txt', 'top_ustawy%1997_926.txt', 'top_ustawy%1998_1118.txt', 'top_ustawy%1998_602.txt', 'top_ustawy%1999_930.txt', 'top_ustawy%1999_95.txt', 'top_ustawy%2000_1104.txt', 'top_ustawy%2000_1186.txt', 'top_ustawy%2000_1268.txt', 'top_ustawy%2000_1315.txt', 'top_ustawy%2000_136.txt', 'top_ustawy%2000_696.txt', 'top_ustawy%2000_991.txt', 'top_ustawy%2001_1070.txt', 'top_ustawy%2001_1188.txt', 'top_ustawy%2001_1229.txt', 'top_ustawy%2001_1368.txt', 'top_ustawy%2001_1381.txt', 'top_ustawy%2001_1438.txt', 'top_ustawy%2001_1444.txt', 'top_ustawy%2001_1545.txt', 'top_ustawy%2001_475.txt', 'top_ustawy%2001_499.txt', 'top_ustawy%2001_627.txt', 'top_ustawy%2001_628.txt', 'top_ustawy%2001_906.txt', 'top_ustawy%2001_92.txt', 'top_ustawy%2002_1689.txt', 'top_ustawy%2003_1750.txt', 'top_ustawy%2003_2256.txt', 'top_ustawy%2003_2277.txt', 'top_ustawy%2003_423.txt', 'top_ustawy%2004_1693.txt', 'top_ustawy%2004_177.txt', 'top_ustawy%2004_2065.txt', 'top_ustawy%2004_2533.txt', 'top_ustawy%2004_880.txt'])\n"
     ]
    }
   ],
   "source": [
    "print(NER_bills.keys())"
   ]
  },
  {
   "cell_type": "markdown",
   "metadata": {},
   "source": [
    "### Zadanie 8: histogram"
   ]
  },
  {
   "cell_type": "code",
   "execution_count": 8,
   "metadata": {},
   "outputs": [],
   "source": [
    "# Najpierw liczymy wystąpienia klas:\n",
    "\n",
    "class_counter = dict()\n",
    "\n",
    "for k in NER_bills.keys():\n",
    "    # print(NER_bills[k])\n",
    "    for expression in NER_bills[k]:\n",
    "        # print(expression)\n",
    "        for pair in expression:\n",
    "            # print(pair)\n",
    "            for value in pair.values():\n",
    "                # print(value)\n",
    "                if len(value) == 1:\n",
    "                    if value[0] not in class_counter.keys():\n",
    "                        class_counter[value[0]] = 1\n",
    "                    else:\n",
    "                        class_counter[value[0]] += 1\n",
    "                else:\n",
    "                    for elem in value:\n",
    "                        if elem not in class_counter.keys():\n",
    "                            class_counter[elem] = 1\n",
    "                        else:\n",
    "                            class_counter[elem] += 1"
   ]
  },
  {
   "cell_type": "code",
   "execution_count": 9,
   "metadata": {},
   "outputs": [
    {
     "name": "stdout",
     "output_type": "stream",
     "text": [
      "{'nam_org_institution': 41450, 'nam_loc_gpe_country': 7700, 'nam_pro_title_document': 5400, 'nam_pro_media_periodic': 3800, 'nam_adj_country': 450, 'nam_liv_person': 350, 'nam_org_organization': 250, 'nam_fac_goe': 150}\n"
     ]
    }
   ],
   "source": [
    "sorted_class_counter = dict(sorted(class_counter.items(), key=lambda item: item[1], reverse=True))\n",
    "print(sorted_class_counter)"
   ]
  },
  {
   "cell_type": "code",
   "execution_count": 82,
   "metadata": {},
   "outputs": [],
   "source": [
    "# Tworzymy słownik coarse typów (ręcznie, bo jest ich niedużo)\n",
    "\n",
    "coarse_sorted_class_counter = {'nam_org': 41700, 'nam_loc': 7700, 'nam_pro': 9200, 'nam_adj': 450, 'nam_liv': 350, 'nam_fac': 150}"
   ]
  },
  {
   "cell_type": "code",
   "execution_count": 83,
   "metadata": {},
   "outputs": [
    {
     "data": {
      "image/png": "[encoded data removed]",
      "text/plain": [
       "<Figure size 1440x432 with 1 Axes>"
      ]
     },
     "metadata": {
      "needs_background": "light"
     },
     "output_type": "display_data"
    }
   ],
   "source": [
    "# Tworzymy histogram:\n",
    "\n",
    "x = coarse_sorted_class_counter.keys()\n",
    "y = coarse_sorted_class_counter.values()\n",
    "\n",
    "plt.rcParams[\"figure.figsize\"] = (20,6)\n",
    "plt.bar(x, y)\n",
    "plt.show()"
   ]
  },
  {
   "cell_type": "markdown",
   "metadata": {},
   "source": [
    "### Zadanie 9: 10 najczęściej występujących nazw dla każdego typu"
   ]
  },
  {
   "cell_type": "code",
   "execution_count": 10,
   "metadata": {},
   "outputs": [
    {
     "data": {
      "text/plain": [
       "{'nam_org_institution': [],\n",
       " 'nam_loc_gpe_country': [],\n",
       " 'nam_pro_title_document': [],\n",
       " 'nam_pro_media_periodic': [],\n",
       " 'nam_adj_country': [],\n",
       " 'nam_liv_person': [],\n",
       " 'nam_org_organization': [],\n",
       " 'nam_fac_goe': []}"
      ]
     },
     "execution_count": 10,
     "metadata": {},
     "output_type": "execute_result"
    }
   ],
   "source": [
    "name_by_class = dict()\n",
    "\n",
    "for key in sorted_class_counter.keys():\n",
    "    name_by_class[key] = []\n",
    "\n",
    "name_by_class"
   ]
  },
  {
   "cell_type": "code",
   "execution_count": 11,
   "metadata": {},
   "outputs": [],
   "source": [
    "for k in NER_bills.keys():\n",
    "    # print(NER_bills[k])\n",
    "    for expression in NER_bills[k]:\n",
    "        # print(expression)\n",
    "        for pair in expression:\n",
    "            # print(pair)\n",
    "            for key, value in pair.items():\n",
    "                if len(value) == 1:\n",
    "                    name_by_class[value[0]].append(key)\n",
    "                else:\n",
    "                    for elem in value:\n",
    "                        name_by_class[elem].append(key)"
   ]
  },
  {
   "cell_type": "code",
   "execution_count": 12,
   "metadata": {},
   "outputs": [],
   "source": [
    "name_by_class_counter = dict()\n",
    "\n",
    "for k, v in name_by_class.items():\n",
    "    name_by_class_counter[k] = dict()\n",
    "    # print(name_by_class_counter)\n",
    "    for elem in v:\n",
    "        if elem not in name_by_class_counter[k].keys():\n",
    "            name_by_class_counter[k][elem] = 1\n",
    "        else:\n",
    "            name_by_class_counter[k][elem] += 1"
   ]
  },
  {
   "cell_type": "code",
   "execution_count": 2,
   "metadata": {},
   "outputs": [
    {
     "data": {
      "text/plain": [
       "'nam_org'"
      ]
     },
     "execution_count": 2,
     "metadata": {},
     "output_type": "execute_result"
    }
   ],
   "source": [
    "text = 'nam_org_inst'\n",
    "text[:7]"
   ]
  },
  {
   "cell_type": "code",
   "execution_count": 13,
   "metadata": {},
   "outputs": [],
   "source": [
    "coarse_class_counter = dict()"
   ]
  },
  {
   "cell_type": "code",
   "execution_count": 18,
   "metadata": {},
   "outputs": [],
   "source": [
    "for k in name_by_class_counter.keys():\n",
    "    if k[:7] not in coarse_class_counter.keys():\n",
    "        coarse_class_counter[k[:7]] = name_by_class_counter[k]"
   ]
  },
  {
   "cell_type": "code",
   "execution_count": 20,
   "metadata": {},
   "outputs": [
    {
     "data": {
      "text/plain": [
       "{'nam_org': {'urząd': 50,\n",
       "  'patentowy': 50,\n",
       "  'rzeczpospolita': 850,\n",
       "  'polski': 950,\n",
       "  'prezes': 2850,\n",
       "  'Polska': 200,\n",
       "  'konwencja': 100,\n",
       "  'paryski': 100,\n",
       "  'dziennik': 50,\n",
       "  'urzędowy': 50,\n",
       "  '&quot;': 200,\n",
       "  'monitor': 50,\n",
       "  'ochrona': 300,\n",
       "  'państwo': 650,\n",
       "  'skarb': 350,\n",
       "  'szef': 200,\n",
       "  'rada': 1000,\n",
       "  'minister': 1050,\n",
       "  'naczelny': 400,\n",
       "  'sąd': 600,\n",
       "  'administracyjny': 400,\n",
       "  'prokurator': 250,\n",
       "  'generalny': 250,\n",
       "  'lub': 200,\n",
       "  'izba': 550,\n",
       "  'odwoławczy': 800,\n",
       "  'oraz': 50,\n",
       "  'rzecznik': 200,\n",
       "  'prawo': 100,\n",
       "  'obywatelski': 100,\n",
       "  'VIII': 50,\n",
       "  'Organa': 50,\n",
       "  'dział': 50,\n",
       "  'i': 150,\n",
       "  'rozdział': 50,\n",
       "  '1': 50,\n",
       "  'zadanie': 50,\n",
       "  'art': 50,\n",
       "  'stać': 50,\n",
       "  'interes': 150,\n",
       "  'zawodowy': 150,\n",
       "  'konstytucja': 50,\n",
       "  'komisja': 350,\n",
       "  'dyscyplinarny': 100,\n",
       "  'ekspert': 100,\n",
       "  'wysoki': 250,\n",
       "  'wydział': 50,\n",
       "  'sprawa': 50,\n",
       "  'sporny': 50,\n",
       "  'sprawiedliwość': 50,\n",
       "  'pierwszy': 50,\n",
       "  ',': 100,\n",
       "  'ustawa': 150,\n",
       "  'z': 50,\n",
       "  'dzień': 50,\n",
       "  '30': 50,\n",
       "  'październik': 50,\n",
       "  '1992': 50,\n",
       "  'rok': 50,\n",
       "  '.': 50,\n",
       "  'o': 150,\n",
       "  'zmiana': 50,\n",
       "  'wynalazczość': 50},\n",
       " 'nam_loc': {'rzeczpospolita': 1450,\n",
       "  'polski': 1650,\n",
       "  'Rzeczpospolita': 250,\n",
       "  'Polska': 550,\n",
       "  'prezes': 450,\n",
       "  'urząd': 650,\n",
       "  'patentowy': 650,\n",
       "  'dziennik': 50,\n",
       "  'urzędowy': 50,\n",
       "  '&quot;': 100,\n",
       "  'monitor': 50,\n",
       "  'prokurator': 250,\n",
       "  'generalny': 250,\n",
       "  'lub': 200,\n",
       "  'oraz': 50,\n",
       "  'rzecznik': 100,\n",
       "  'prawo': 100,\n",
       "  'obywatelski': 100,\n",
       "  'naczelny': 100,\n",
       "  'sąd': 200,\n",
       "  'administracyjny': 100,\n",
       "  'minister': 50,\n",
       "  'sprawiedliwość': 50,\n",
       "  'pierwszy': 50,\n",
       "  'wysoki': 100,\n",
       "  ',': 100},\n",
       " 'nam_pro': {'rzeczpospolita': 100,\n",
       "  'polski': 100,\n",
       "  'Rzeczpospolita': 50,\n",
       "  'konwencja': 100,\n",
       "  'paryski': 100,\n",
       "  'kodeks': 300,\n",
       "  'cywilny': 300,\n",
       "  'o': 350,\n",
       "  'współwłasność': 100,\n",
       "  'urząd': 100,\n",
       "  'patentowy': 100,\n",
       "  'konstytucja': 50,\n",
       "  'ustawa': 400,\n",
       "  'służba': 100,\n",
       "  'prezes': 50,\n",
       "  'postępowanie': 100,\n",
       "  'karny': 50,\n",
       "  'handlowy': 50,\n",
       "  'z': 250,\n",
       "  'dzień': 250,\n",
       "  '11': 50,\n",
       "  'maj': 50,\n",
       "  '1995': 50,\n",
       "  'rok': 250,\n",
       "  '.': 350,\n",
       "  'naczelny': 50,\n",
       "  'sąd': 100,\n",
       "  'administracyjny': 50,\n",
       "  '19': 50,\n",
       "  'październik': 150,\n",
       "  '1972': 50,\n",
       "  'wynalazczość': 100,\n",
       "  '31': 50,\n",
       "  'styczeń': 50,\n",
       "  '1985': 50,\n",
       "  'znak': 50,\n",
       "  'towarowy': 50,\n",
       "  '30': 100,\n",
       "  '1992': 100,\n",
       "  'ochrona': 50,\n",
       "  'topografia': 50,\n",
       "  'układ': 50,\n",
       "  'scalić': 50,\n",
       "  'zmiana': 50,\n",
       "  'i': 50,\n",
       "  'dziennik': 50,\n",
       "  'wysoki': 50},\n",
       " 'nam_adj': {'polski': 350, 'urząd': 50, 'patentowy': 50},\n",
       " 'nam_liv': {'artykuł': 50,\n",
       "  'V': 50,\n",
       "  'opłata': 100,\n",
       "  'działo': 50,\n",
       "  'I': 50,\n",
       "  'Art': 50},\n",
       " 'nam_fac': {'dział': 50, 'I': 50, 'zmiana': 50}}"
      ]
     },
     "execution_count": 20,
     "metadata": {},
     "output_type": "execute_result"
    }
   ],
   "source": [
    "coarse_class_counter"
   ]
  },
  {
   "cell_type": "markdown",
   "metadata": {},
   "source": [
    "### Zadanie 10: Wyświetlić 50 najpopularniejszych słów z ich liczebnością dla każdej klasy"
   ]
  },
  {
   "cell_type": "code",
   "execution_count": 61,
   "metadata": {},
   "outputs": [],
   "source": [
    "sorted_name_by_class_counter = dict()\n",
    "\n",
    "for k in name_by_class_counter.keys():\n",
    "    sorted_name_by_class_counter[k] = dict(sorted(name_by_class_counter[k].items(), key=lambda item: item[1], reverse=True))"
   ]
  },
  {
   "cell_type": "code",
   "execution_count": 78,
   "metadata": {},
   "outputs": [],
   "source": [
    "most_freq_names = dict()\n",
    "\n",
    "for k in sorted_name_by_class_counter.keys():\n",
    "    most_freq_names[k] = list(sorted_name_by_class_counter[k].items())[:50]"
   ]
  },
  {
   "cell_type": "code",
   "execution_count": 79,
   "metadata": {},
   "outputs": [
    {
     "name": "stdout",
     "output_type": "stream",
     "text": [
      "nam_org_institution\n",
      "[('urząd', 12700), ('patentowy', 12350), ('prezes', 2850), ('minister', 1050), ('rada', 1000), ('polski', 950), ('rzeczpospolita', 850), ('odwoławczy', 800), ('państwo', 650), ('sąd', 600), ('izba', 550), ('naczelny', 400), ('administracyjny', 400), ('skarb', 350), ('komisja', 350), ('ochrona', 300), ('wydział', 300), ('sprawa', 300), ('sporny', 300), ('prokurator', 250), ('generalny', 250), ('wysoki', 250), ('Polska', 200), ('&quot;', 200), ('szef', 200), ('lub', 200), ('rzecznik', 200), ('i', 150), ('interes', 150), ('zawodowy', 150), ('ustawa', 150), ('o', 150), ('konwencja', 100), ('paryski', 100), ('prawo', 100), ('obywatelski', 100), ('dyscyplinarny', 100), ('ekspert', 100), (',', 100), ('dziennik', 50), ('urzędowy', 50), ('monitor', 50), ('oraz', 50), ('VIII', 50), ('Organa', 50), ('dział', 50), ('rozdział', 50), ('1', 50), ('zadanie', 50), ('art', 50)]\n",
      "\n",
      "nam_loc_gpe_country\n",
      "[('polski', 1650), ('rzeczpospolita', 1450), ('urząd', 650), ('patentowy', 650), ('Polska', 550), ('prezes', 450), ('Rzeczpospolita', 250), ('prokurator', 250), ('generalny', 250), ('lub', 200), ('sąd', 200), ('&quot;', 100), ('rzecznik', 100), ('prawo', 100), ('obywatelski', 100), ('naczelny', 100), ('administracyjny', 100), ('wysoki', 100), (',', 100), ('dziennik', 50), ('urzędowy', 50), ('monitor', 50), ('oraz', 50), ('minister', 50), ('sprawiedliwość', 50), ('pierwszy', 50)]\n",
      "\n",
      "nam_pro_title_document\n",
      "[('o', 550), ('ustawa', 450), ('kodeks', 300), ('cywilny', 300), ('z', 250), ('dzień', 250), ('rok', 250), ('.', 250), ('polski', 200), ('rzeczpospolita', 150), ('urząd', 150), ('patentowy', 150), ('październik', 150), ('konwencja', 100), ('paryski', 100), ('współwłasność', 100), ('służba', 100), ('postępowanie', 100), ('wynalazczość', 100), ('30', 100), ('1992', 100), ('Rzeczpospolita', 50), ('konstytucja', 50), ('prezes', 50), ('karny', 50), ('handlowy', 50), ('11', 50), ('maj', 50), ('1995', 50), ('naczelny', 50), ('sąd', 50), ('administracyjny', 50), ('19', 50), ('1972', 50), ('31', 50), ('styczeń', 50), ('1985', 50), ('znak', 50), ('towarowy', 50), ('ochrona', 50), ('topografia', 50), ('układ', 50), ('scalić', 50), ('zmiana', 50), ('i', 50)]\n",
      "\n",
      "nam_pro_media_periodic\n",
      "[('ustawa', 400), ('.', 350), ('o', 350), ('z', 250), ('dzień', 250), ('rok', 250), ('październik', 150), ('sąd', 100), ('wynalazczość', 100), ('30', 100), ('1992', 100), ('urząd', 100), ('patentowy', 100), ('rzeczpospolita', 100), ('polski', 100), ('dziennik', 50), ('wysoki', 50), ('11', 50), ('maj', 50), ('1995', 50), ('naczelny', 50), ('administracyjny', 50), ('19', 50), ('1972', 50), ('31', 50), ('styczeń', 50), ('1985', 50), ('znak', 50), ('towarowy', 50), ('ochrona', 50), ('topografia', 50), ('układ', 50), ('scalić', 50), ('zmiana', 50), ('i', 50)]\n",
      "\n",
      "nam_adj_country\n",
      "[('polski', 350), ('urząd', 50), ('patentowy', 50)]\n",
      "\n",
      "nam_liv_person\n",
      "[('opłata', 100), ('artykuł', 50), ('V', 50), ('działo', 50), ('I', 50), ('Art', 50)]\n",
      "\n",
      "nam_org_organization\n",
      "[('wydział', 50), ('sprawa', 50), ('sporny', 50), ('urząd', 50), ('patentowy', 50)]\n",
      "\n",
      "nam_fac_goe\n",
      "[('dział', 50), ('I', 50), ('zmiana', 50)]\n",
      "\n"
     ]
    }
   ],
   "source": [
    "# Wreszcie wyświetlam 50 (o ile tyle jest) najpopularniejszych słów dla każdego typu\n",
    "\n",
    "for k in most_freq_names.keys():\n",
    "    print(k)\n",
    "    print(most_freq_names[k])\n",
    "    print()"
   ]
  },
  {
   "cell_type": "markdown",
   "metadata": {},
   "source": [
    "### Zadanie 12: Odpowiedź na pytania:"
   ]
  },
  {
   "cell_type": "markdown",
   "metadata": {},
   "source": [
    "__Pytanie 1: Which of the method (counting expressions with capital letters vs. NER) worked better for the task concerned with identification of the proper names?__"
   ]
  },
  {
   "cell_type": "markdown",
   "metadata": {},
   "source": [
    "Według mnie lepiej poradził sobie NER. Liczenie słów z wielkimi literami, jakkolwiek szybkie i przejrzyste (o ile regexy są przejrzyste) ma takie wady, że wyłapywało również słowa, które nie znajdowały się na początku zdania, ale i nie były częściami żadnych nazw własnych. NER natomiast potrafił je sklasyfikować nie zwracając tak uwagi na prostą właściwość posiadania wielkiej litery na początku."
   ]
  },
  {
   "cell_type": "markdown",
   "metadata": {},
   "source": [
    "__Pytanie2: What are the drawbacks of the method based on capital letters?__"
   ]
  },
  {
   "cell_type": "markdown",
   "metadata": {},
   "source": [
    "W zasadzie z rozpędu opisałem je powyżej. Powtórzę jednak: taka metoda jest ślepa na znaczenie słów. Patrzy tylko na to, czy słowo zaczyna się z wielkiej litery, czy nie (i ewentualnie czy nie stoi na początku zdania). Metoda jest czuła na wszelkie niestandardowe sytuacje, w tym błędy."
   ]
  },
  {
   "cell_type": "markdown",
   "metadata": {},
   "source": [
    "__Pytanie 3: What are the drawbacks of the method based on NER?__"
   ]
  },
  {
   "cell_type": "markdown",
   "metadata": {},
   "source": [
    "NER może klasyfikować słowa do kilku typów, co ma szansę wprowadzić zamieszanie przy późniejszym parsowaniu i interpretacji."
   ]
  },
  {
   "cell_type": "markdown",
   "metadata": {},
   "source": [
    "__Pytanie 4: Which of the coarse-grained NER groups has the best and which has the worst results? Try to justify this observation.__"
   ]
  },
  {
   "cell_type": "markdown",
   "metadata": {},
   "source": [
    "*nam_fac* i *nam_liv* wypadły chyba najgorzej. Bardzo możliwe, że NER w jakiś dziwny sposób próbuje uchwycić nazwy placówek, które przecież niekoniecznie muszą brzmieć jak typowe nazwy własne (choćby D17 na AGH). Co do *nam_liv* to NER chyba po prostu popełnił błąd w klasyfikacji."
   ]
  },
  {
   "cell_type": "markdown",
   "metadata": {},
   "source": [
    "__Pytanie 5: Do you think NER is sufficient for identifying different occurrences of the same entity (i.e. consider \"USA\" and \"Stany Zjednoczone\" and \"Stany Zjednoczone Ameryki Północnej\")? If not, can you suggest an algorithm or a tool that would be able to group such names together?__"
   ]
  },
  {
   "cell_type": "markdown",
   "metadata": {},
   "source": [
    "NER może mieć z tym problem, ponieważ jakkolwiek tokenizuje i lematyzuje korpus, to jednak robi to słowo po słowie. Mógłby więc dokonać tokenizacji USA do postaci Stany Zjednoczone (przykład), natomiast Stany Zjednoczone na kolejno Stan i Zjednoczyć lub coś podobnego. Raczej więc wszystkie te wyrażenia potraktowałby jako coś innego (choć pewnie typy klas byłyby identyczne).\n",
    "\n",
    "Nie przychodzi mi do głowy żaden konkretny algorytm, ale sprawę mógłby rozwiązać jakiś leksykon lub słownik."
   ]
  },
  {
   "cell_type": "markdown",
   "metadata": {},
   "source": [
    "__Pytanie 6: Can you think of a real world problem that would benefit the most from application of Named Entity Recognition algorithm?__"
   ]
  },
  {
   "cell_type": "markdown",
   "metadata": {},
   "source": [
    "Przetwarzanie języka mówionego. Tu nie dałoby się zastosować tej pierwszej metody z wielkimi literami, ponieważ transkrypcja (automatyczna) prawie na pewno by takich nie zawierała. Natomiast klasyfikacja oparta o wytrenowany model mogłaby sobie z tym poradzić mając do dyspozycji same tylko słowa."
   ]
  }
 ],
 "metadata": {
  "kernelspec": {
   "display_name": "Python 3.9.13 ('NN_venv': venv)",
   "language": "python",
   "name": "python3"
  },
  "language_info": {
   "codemirror_mode": {
    "name": "ipython",
    "version": 3
   },
   "file_extension": ".py",
   "mimetype": "text/x-python",
   "name": "python",
   "nbconvert_exporter": "python",
   "pygments_lexer": "ipython3",
   "version": "3.9.13"
  },
  "orig_nbformat": 4,
  "vscode": {
   "interpreter": {
    "hash": "7c1be3bdad89306bad87f829af25c9afaa6e22c8fa2fae60601a6fc7c9efdfac"
   }
  }
 },
 "nbformat": 4,
 "nbformat_minor": 2
}
